{
 "cells": [
  {
   "cell_type": "code",
   "execution_count": 2,
   "metadata": {},
   "outputs": [],
   "source": [
    "\n",
    "import pandas as pd\n",
    "import glob\n",
    "import os\n",
    "\n",
    "combined_df = pd.DataFrame()\n",
    "base_dir = 'C:/Users/javi2/Documents/CD_aplicada/COBI/etl/data/globcolour/processed/'\n",
    "\n",
    "# List all subdirectories within the base directory\n",
    "subdirectories = [f.path for f in os.scandir(base_dir) if f.is_dir()]\n",
    "\n",
    "# Iterate over the subdirectories and process CSV files\n",
    "for subdir in subdirectories:\n",
    "    combined_df = pd.DataFrame()\n",
    "    file_pattern = os.path.join(subdir, '*.csv')\n",
    "    file_list = glob.glob(file_pattern)\n",
    "\n",
    "    for file in file_list:\n",
    "        df = pd.read_csv(file, delimiter=',')  # Assuming your CSV files are tab-separated\n",
    "        combined_df = pd.concat([combined_df, df])\n",
    "        \n",
    "    combined_df.to_csv(subdir + '/variable.csv', index=False)\n",
    "\n"
   ]
  },
  {
   "cell_type": "code",
   "execution_count": 3,
   "metadata": {},
   "outputs": [],
   "source": [
    "# Iterate over the subdirectories and process CSV files\n",
    "for subdir in subdirectories:\n",
    "    file = os.path.join(subdir, 'variable.csv')\n",
    "    os.rename(file, os.path.join(subdir, subdir.split('/')[-1]+'.csv'))\n"
   ]
  },
  {
   "cell_type": "code",
   "execution_count": 7,
   "metadata": {},
   "outputs": [
    {
     "name": "stdout",
     "output_type": "stream",
     "text": [
      "C:/Users/javi2/Documents/CD_aplicada/COBI/etl/data/globcolour/processed/aerosol_optical_thickness_over_water\n",
      "C:/Users/javi2/Documents/CD_aplicada/COBI/etl/data/globcolour/processed/aerosol_optical_thickness_over_water+land\n",
      "C:/Users/javi2/Documents/CD_aplicada/COBI/etl/data/globcolour/processed/cloud_fraction\n",
      "C:/Users/javi2/Documents/CD_aplicada/COBI/etl/data/globcolour/processed/coloured_dissolved_detrital_organic_materials_absorption_coefficient\n",
      "C:/Users/javi2/Documents/CD_aplicada/COBI/etl/data/globcolour/processed/depth_of_the_bottom_of_the_euphotic_layer\n",
      "C:/Users/javi2/Documents/CD_aplicada/COBI/etl/data/globcolour/processed/diffuse_attenuation_coefficient\n",
      "C:/Users/javi2/Documents/CD_aplicada/COBI/etl/data/globcolour/processed/heated_layer_depth\n",
      "C:/Users/javi2/Documents/CD_aplicada/COBI/etl/data/globcolour/processed/inorganic_suspended_particulate_matter_concentration\n",
      "C:/Users/javi2/Documents/CD_aplicada/COBI/etl/data/globcolour/processed/normalised_fluorescence_line_height\n",
      "C:/Users/javi2/Documents/CD_aplicada/COBI/etl/data/globcolour/processed/normalised_remote_sensing_reflectance\n",
      "C:/Users/javi2/Documents/CD_aplicada/COBI/etl/data/globcolour/processed/particulate_backscattering_coefficient\n",
      "C:/Users/javi2/Documents/CD_aplicada/COBI/etl/data/globcolour/processed/particulate_inorganic_carbon\n",
      "C:/Users/javi2/Documents/CD_aplicada/COBI/etl/data/globcolour/processed/particulate_organic_carbon\n",
      "C:/Users/javi2/Documents/CD_aplicada/COBI/etl/data/globcolour/processed/photosynthetically_available_radiation\n",
      "C:/Users/javi2/Documents/CD_aplicada/COBI/etl/data/globcolour/processed/relative_excess_of_radiance\n",
      "C:/Users/javi2/Documents/CD_aplicada/COBI/etl/data/globcolour/processed/secchi_disk_depth\n"
     ]
    }
   ],
   "source": [
    "for subdir in subdirectories:\n",
    "    print(subdir)\n",
    "    combined_df = pd.DataFrame()\n",
    "    variable_file = os.path.join(subdir, subdir.split('/')[-1]+'.csv')\n",
    "    df = pd.read_csv(variable_file, delimiter=',')  # Assuming your CSV files are tab-separated\n",
    "    combined_df = pd.concat([combined_df, df])\n",
    "combined_df.to_csv(base_dir + 'X.csv', index=False)"
   ]
  }
 ],
 "metadata": {
  "kernelspec": {
   "display_name": "Python 3",
   "language": "python",
   "name": "python3"
  },
  "language_info": {
   "codemirror_mode": {
    "name": "ipython",
    "version": 3
   },
   "file_extension": ".py",
   "mimetype": "text/x-python",
   "name": "python",
   "nbconvert_exporter": "python",
   "pygments_lexer": "ipython3",
   "version": "3.9.13"
  }
 },
 "nbformat": 4,
 "nbformat_minor": 2
}
